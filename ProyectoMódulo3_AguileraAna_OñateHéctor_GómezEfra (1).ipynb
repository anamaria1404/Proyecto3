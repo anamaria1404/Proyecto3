{
 "cells": [
  {
   "cell_type": "markdown",
   "metadata": {},
   "source": [
    "# Proyecto Módulo 3\n",
    "## Interés Compuesto\n",
    "\n",
    "### <span style=\"color:blue\"> Ana María Aguilera Gómez\n",
    "\n",
    "### <span style=\"color:blue\"> Efraín Gómez Tapia\n",
    "    \n",
    "### <span style=\"color:blue\"> Hector Oñate R.\n",
    "    \n",
    "![alt text](https://www.cronista.com/__export/1541762056988/sites/diarioelcronista/img/2018/11/09/fotoblogmayo2809.jpg_258117318.jpg)"
   ]
  },
  {
   "cell_type": "markdown",
   "metadata": {},
   "source": [
    "--------   "
   ]
  },
  {
   "cell_type": "code",
   "execution_count": 18,
   "metadata": {},
   "outputs": [],
   "source": [
    "import numpy as np \n",
    "import matplotlib.pyplot as plt"
   ]
  },
  {
   "cell_type": "code",
   "execution_count": 19,
   "metadata": {},
   "outputs": [],
   "source": [
    "def interes(cantidad, tasa, tiempo, periodo):\n",
    "    pot=tiempo*periodo\n",
    "    a=cantidad*pow((1+tasa/periodo),pot)\n",
    "    return a"
   ]
  },
  {
   "cell_type": "code",
   "execution_count": 20,
   "metadata": {},
   "outputs": [],
   "source": [
    "cantidad=60000\n",
    "tasa=.045\n",
    "periodo=2\n",
    "tiempo=1"
   ]
  },
  {
   "cell_type": "code",
   "execution_count": 21,
   "metadata": {},
   "outputs": [
    {
     "name": "stdout",
     "output_type": "stream",
     "text": [
      "62730.37499999999\n"
     ]
    }
   ],
   "source": [
    "print(interes(cantidad, tasa, tiempo, periodo))"
   ]
  },
  {
   "cell_type": "code",
   "execution_count": 22,
   "metadata": {},
   "outputs": [
    {
     "name": "stdout",
     "output_type": "stream",
     "text": [
      "¿Cuántos años quieres calcular?20\n"
     ]
    }
   ],
   "source": [
    "n=int(input(\"¿Cuántos años quieres calcular?\"))\n",
    "x=np.zeros(n)\n",
    "y=np.zeros(n)\n",
    "tiempo=0\n",
    "for i in range(0,n):\n",
    "    tiempo=tiempo+1\n",
    "    x[i]=tiempo\n",
    "    y[i]=interes(cantidad,tasa,tiempo,periodo)\n",
    "\n",
    "    "
   ]
  },
  {
   "cell_type": "code",
   "execution_count": 23,
   "metadata": {},
   "outputs": [
    {
     "data": {
      "text/plain": [
       "<matplotlib.collections.PathCollection at 0x25766bfbbe0>"
      ]
     },
     "execution_count": 23,
     "metadata": {},
     "output_type": "execute_result"
    },
    {
     "data": {
      "image/png": "[encoded data removed]",
      "text/plain": [
       "<Figure size 432x288 with 1 Axes>"
      ]
     },
     "metadata": {
      "needs_background": "light"
     },
     "output_type": "display_data"
    }
   ],
   "source": [
    "plt.scatter(x,y,color='pink')"
   ]
  },
  {
   "cell_type": "code",
   "execution_count": 24,
   "metadata": {},
   "outputs": [],
   "source": [
    "periodo=12\n",
    "tasa=.0845\n",
    "x2=np.zeros(n)\n",
    "y2=np.zeros(n)\n",
    "for i in range(0,n):\n",
    "    tiempo=tiempo+1\n",
    "    x2[i]=tiempo\n",
    "    y2[i]=interes(cantidad,tasa,tiempo,periodo)\n"
   ]
  },
  {
   "cell_type": "code",
   "execution_count": 25,
   "metadata": {},
   "outputs": [
    {
     "data": {
      "text/plain": [
       "<matplotlib.collections.PathCollection at 0x25766c73978>"
      ]
     },
     "execution_count": 25,
     "metadata": {},
     "output_type": "execute_result"
    },
    {
     "data": {
      "image/png": "[encoded data removed]",
      "text/plain": [
       "<Figure size 432x288 with 1 Axes>"
      ]
     },
     "metadata": {
      "needs_background": "light"
     },
     "output_type": "display_data"
    }
   ],
   "source": [
    "plt.scatter(x2,y2,color='pink')"
   ]
  },
  {
   "cell_type": "code",
   "execution_count": 26,
   "metadata": {},
   "outputs": [],
   "source": [
    "periodo=12\n",
    "tasa=.0245\n",
    "x3=np.zeros(n)\n",
    "y3=np.zeros(n)\n",
    "for i in range(0,n):\n",
    "    tiempo=tiempo+1\n",
    "    x3[i]=tiempo\n",
    "    y3[i]=interes(cantidad,tasa,tiempo,periodo)"
   ]
  },
  {
   "cell_type": "code",
   "execution_count": 27,
   "metadata": {},
   "outputs": [
    {
     "data": {
      "text/plain": [
       "<matplotlib.collections.PathCollection at 0x25766ce3198>"
      ]
     },
     "execution_count": 27,
     "metadata": {},
     "output_type": "execute_result"
    },
    {
     "data": {
      "image/png": "[encoded data removed]",
      "text/plain": [
       "<Figure size 432x288 with 1 Axes>"
      ]
     },
     "metadata": {
      "needs_background": "light"
     },
     "output_type": "display_data"
    }
   ],
   "source": [
    "plt.scatter(x3,y3,color='pink')"
   ]
  },
  {
   "cell_type": "code",
   "execution_count": 28,
   "metadata": {},
   "outputs": [],
   "source": [
    "periodo=12\n",
    "tasa=.0345\n",
    "x4=np.zeros(n)\n",
    "y4=np.zeros(n)\n",
    "for i in range(0,n):\n",
    "    tiempo=tiempo+1\n",
    "    x4[i]=tiempo\n",
    "    y4[i]=interes(cantidad,tasa,tiempo,periodo)"
   ]
  },
  {
   "cell_type": "code",
   "execution_count": 29,
   "metadata": {},
   "outputs": [
    {
     "data": {
      "text/plain": [
       "<matplotlib.collections.PathCollection at 0x25766d3deb8>"
      ]
     },
     "execution_count": 29,
     "metadata": {},
     "output_type": "execute_result"
    },
    {
     "data": {
      "image/png": "[encoded data removed]",
      "text/plain": [
       "<Figure size 432x288 with 1 Axes>"
      ]
     },
     "metadata": {
      "needs_background": "light"
     },
     "output_type": "display_data"
    }
   ],
   "source": [
    "plt.scatter(x4,y4,color='pink')"
   ]
  },
  {
   "cell_type": "code",
   "execution_count": null,
   "metadata": {},
   "outputs": [],
   "source": []
  },
  {
   "cell_type": "markdown",
   "metadata": {},
   "source": [
    "## Referencias:\n",
    "\n"
   ]
  }
 ],
 "metadata": {
  "kernelspec": {
   "display_name": "Python 3",
   "language": "python",
   "name": "python3"
  },
  "language_info": {
   "codemirror_mode": {
    "name": "ipython",
    "version": 3
   },
   "file_extension": ".py",
   "mimetype": "text/x-python",
   "name": "python",
   "nbconvert_exporter": "python",
   "pygments_lexer": "ipython3",
   "version": "3.7.3"
  }
 },
 "nbformat": 4,
 "nbformat_minor": 2
}
